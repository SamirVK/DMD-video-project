{
 "cells": [
  {
   "cell_type": "code",
   "execution_count": null,
   "id": "1aed5d9c",
   "metadata": {},
   "outputs": [],
   "source": [
    "import os\n",
    "os.chdir('/Users/samir/Documents/Winter2023/MAST680/Assignment1')"
   ]
  },
  {
   "cell_type": "markdown",
   "id": "2d97916c",
   "metadata": {},
   "source": [
    "## Import raw video as a 4-dimensional matrix"
   ]
  },
  {
   "cell_type": "code",
   "execution_count": 3,
   "id": "06dfb3a2",
   "metadata": {},
   "outputs": [],
   "source": [
    "import cv2\n",
    "import numpy as np\n",
    "\n",
    "cap = cv2.VideoCapture('ski_drop_low.mp4')\n",
    "frameCount = int(cap.get(cv2.CAP_PROP_FRAME_COUNT))\n",
    "frameWidth = int(cap.get(cv2.CAP_PROP_FRAME_WIDTH))\n",
    "frameHeight = int(cap.get(cv2.CAP_PROP_FRAME_HEIGHT))\n",
    "\n",
    "buf = np.empty((frameCount, frameHeight, frameWidth, 3), np.dtype('uint8'))\n",
    "\n",
    "fc = 0\n",
    "ret = True\n",
    "\n",
    "while (fc < frameCount  and ret):\n",
    "    ret, buf[fc] = cap.read()\n",
    "    fc += 1\n",
    "\n",
    "cap.release()\n",
    "\n",
    "#cv2.namedWindow('frame 10')\n",
    "#cv2.imshow('frame 10', buf[9])\n",
    "\n",
    "#cv2.waitKey(5000)"
   ]
  },
  {
   "cell_type": "markdown",
   "id": "f04b7c64",
   "metadata": {},
   "source": [
    "## Dimensions: (frames, frame height, frame width, RGB)\n"
   ]
  },
  {
   "cell_type": "code",
   "execution_count": 4,
   "id": "85fd54bf",
   "metadata": {},
   "outputs": [
    {
     "name": "stdout",
     "output_type": "stream",
     "text": [
      "(454, 540, 960, 3)\n"
     ]
    }
   ],
   "source": [
    "print(np.shape(buf))\n",
    "frames = np.shape(buf)[0]\n",
    "height = np.shape(buf)[1]\n",
    "width = np.shape(buf)[2]\n",
    "RGB = np.shape(buf)[3]"
   ]
  },
  {
   "cell_type": "markdown",
   "id": "b959b452",
   "metadata": {},
   "source": [
    "## Preprocessing: stacking rows"
   ]
  },
  {
   "cell_type": "code",
   "execution_count": 5,
   "id": "0bf7fccd",
   "metadata": {},
   "outputs": [],
   "source": [
    "X = np.reshape(buf, (frames,height*width,RGB))"
   ]
  },
  {
   "cell_type": "markdown",
   "id": "c97f14f2",
   "metadata": {},
   "source": [
    "## (Optional) preprocessing: convert to greyscale"
   ]
  },
  {
   "cell_type": "code",
   "execution_count": 6,
   "id": "1cb1181a",
   "metadata": {},
   "outputs": [],
   "source": [
    "#We want to loop through the entries of our 2D matrix \n",
    "#(thinking of the RGB component as being embedded in each entry)\n",
    "#and perform a weighted average in each entry according to the following rule: \n",
    "#X_ij = 0.299R + 0.587G + 0.114B\n",
    "\n",
    "#Create an empty 2D list of the correct dimensions (height*width, frames):\n",
    "X_grey = np.zeros((frames,height*width))\n",
    "\n",
    "for i in range(frames):\n",
    "    for j in range(height*width):\n",
    "        X_grey[i,j] = 0.299*X[i,j,0]+0.587*X[i,j,1]+0.114*X[i,j,2]\n",
    "        \n",
    "#This is more of a proof of concept. Obviously this is super inefficient code...\n",
    "#I should eventually try to integrate this into the video import or use a built-in function."
   ]
  },
  {
   "cell_type": "code",
   "execution_count": 7,
   "id": "b0cb639e",
   "metadata": {},
   "outputs": [
    {
     "name": "stdout",
     "output_type": "stream",
     "text": [
      "[[0. 0. 0. ... 0. 0. 0.]\n",
      " [0. 0. 0. ... 0. 0. 0.]\n",
      " [0. 0. 0. ... 0. 0. 0.]\n",
      " ...\n",
      " [0. 0. 0. ... 0. 0. 0.]\n",
      " [0. 0. 0. ... 0. 0. 0.]\n",
      " [0. 0. 0. ... 0. 0. 0.]]\n"
     ]
    }
   ],
   "source": [
    "print(X_grey)"
   ]
  },
  {
   "cell_type": "code",
   "execution_count": null,
   "id": "d80d41ef",
   "metadata": {},
   "outputs": [],
   "source": []
  }
 ],
 "metadata": {
  "kernelspec": {
   "display_name": "Python 3",
   "language": "python",
   "name": "python3"
  },
  "language_info": {
   "codemirror_mode": {
    "name": "ipython",
    "version": 3
   },
   "file_extension": ".py",
   "mimetype": "text/x-python",
   "name": "python",
   "nbconvert_exporter": "python",
   "pygments_lexer": "ipython3",
   "version": "3.6.13"
  }
 },
 "nbformat": 4,
 "nbformat_minor": 5
}
