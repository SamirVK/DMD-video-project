{
 "cells": [
  {
   "cell_type": "code",
   "execution_count": 1,
   "id": "7b2a1b67",
   "metadata": {},
   "outputs": [],
   "source": [
    "import os\n",
    "os.chdir('/Users/samir/Documents/Winter2023/MAST680/Assignment1')\n",
    "from PIL import Image\n",
    "from scipy import linalg"
   ]
  },
  {
   "cell_type": "markdown",
   "id": "2062822d",
   "metadata": {},
   "source": [
    "## Import raw video as a 4-dimensional matrix (now handles conversion to grayscale)"
   ]
  },
  {
   "cell_type": "code",
   "execution_count": 2,
   "id": "16dc32a1",
   "metadata": {},
   "outputs": [],
   "source": [
    "import cv2\n",
    "import numpy as np\n",
    "\n",
    "cap = cv2.VideoCapture('ski_drop_low.mp4')\n",
    "frameCount = int(cap.get(cv2.CAP_PROP_FRAME_COUNT))\n",
    "frameWidth = int(cap.get(cv2.CAP_PROP_FRAME_WIDTH))\n",
    "frameHeight = int(cap.get(cv2.CAP_PROP_FRAME_HEIGHT))\n",
    "\n",
    "buf = np.empty((frameCount, frameHeight, frameWidth, 3), np.dtype('uint8'))\n",
    "greybuf = np.empty((frameCount, frameHeight, frameWidth), np.dtype('uint8'))\n",
    "\n",
    "fc = 0\n",
    "ret = True\n",
    "\n",
    "while (fc < frameCount  and ret):\n",
    "    ret, buf[fc] = cap.read()\n",
    "    greybuf[fc] = cv2.cvtColor(buf[fc], cv2.COLOR_BGR2GRAY) #Converts each frame to grayscale\n",
    "    fc += 1\n",
    "\n",
    "cap.release()\n",
    "\n",
    "#cv2.namedWindow('frame 10')\n",
    "#cv2.imshow('frame 10', buf[9])\n",
    "\n",
    "#cv2.waitKey(5000)"
   ]
  },
  {
   "cell_type": "markdown",
   "id": "a72a6622",
   "metadata": {},
   "source": [
    "## Dimensions: (frames, frame height, frame width, RGB)\n"
   ]
  },
  {
   "cell_type": "code",
   "execution_count": 3,
   "id": "36c0deed",
   "metadata": {},
   "outputs": [
    {
     "name": "stdout",
     "output_type": "stream",
     "text": [
      "(454, 540, 960, 3)\n"
     ]
    }
   ],
   "source": [
    "print(np.shape(buf))\n",
    "frames = np.shape(buf)[0]\n",
    "height = np.shape(buf)[1]\n",
    "width = np.shape(buf)[2]\n",
    "RGB = np.shape(buf)[3]"
   ]
  },
  {
   "cell_type": "markdown",
   "id": "edc9c4e8",
   "metadata": {},
   "source": [
    "## Preprocessing: stacking rows"
   ]
  },
  {
   "cell_type": "code",
   "execution_count": 4,
   "id": "58e48035",
   "metadata": {},
   "outputs": [],
   "source": [
    "X = np.reshape(buf, (frames,height*width,RGB))\n",
    "X_grey = np.reshape(greybuf, (frames,height*width))"
   ]
  },
  {
   "cell_type": "markdown",
   "id": "0d115644",
   "metadata": {},
   "source": [
    "## (Optional) preprocessing: convert to greyscale"
   ]
  },
  {
   "cell_type": "code",
   "execution_count": 6,
   "id": "b59f5d75",
   "metadata": {},
   "outputs": [],
   "source": [
    "#We want to loop through the entries of our 2D matrix \n",
    "#(thinking of the RGB component as being embedded in each entry)\n",
    "#and perform a weighted average in each entry according to the following rule: \n",
    "#X_ij = 0.299R + 0.587G + 0.114B\n",
    "\n",
    "#Create an empty 2D list of the correct dimensions (height*width, frames):\n",
    "X_grey = np.zeros((frames,height*width))\n",
    "\n",
    "for i in range(frames):\n",
    "    for j in range(height*width):\n",
    "        X_grey[i,j] = 0.299*X[i,j,0]+0.587*X[i,j,1]+0.114*X[i,j,2]\n",
    "        \n",
    "#This is more of a proof of concept. Obviously this is super inefficient code...\n",
    "#I should eventually try to integrate this into the video import or use a built-in function."
   ]
  },
  {
   "cell_type": "code",
   "execution_count": 13,
   "id": "4cd11e7f",
   "metadata": {},
   "outputs": [
    {
     "name": "stdout",
     "output_type": "stream",
     "text": [
      "(454, 518400)\n"
     ]
    }
   ],
   "source": [
    "print(X_grey.shape)"
   ]
  },
  {
   "cell_type": "markdown",
   "id": "82654f73",
   "metadata": {},
   "source": [
    "## Reformat as video frame and image print"
   ]
  },
  {
   "cell_type": "code",
   "execution_count": 15,
   "id": "9f75cfd4",
   "metadata": {},
   "outputs": [],
   "source": [
    "grey_image = np.reshape(X_grey,((frames, height, width)))\n",
    "img = Image.fromarray(np.uint8(grey_image[10]) , 'L')\n",
    "img.show()"
   ]
  },
  {
   "cell_type": "markdown",
   "id": "d76f8713",
   "metadata": {},
   "source": [
    "## DMD (Warning: takes a long time to run this cell)\n"
   ]
  },
  {
   "cell_type": "code",
   "execution_count": null,
   "id": "fcfe3b79",
   "metadata": {},
   "outputs": [],
   "source": [
    "## We want to find the DMD matrix A that satisfies the argmin problem. This involves computing\n",
    "## the Moore-Penrose pseudoinverse X_dagger and multiplying on the left by the shifted matrix Y \n",
    "## whose columns are the next time step from those in the X matrix.\n",
    "\n",
    "X = X_grey.T[:,0:frames-1]\n",
    "Y = X_grey.T[:,1:frames]\n",
    "A = np.matmul(Y,linalg.pinv(X))"
   ]
  },
  {
   "cell_type": "code",
   "execution_count": null,
   "id": "296767fd",
   "metadata": {},
   "outputs": [],
   "source": []
  }
 ],
 "metadata": {
  "kernelspec": {
   "display_name": "Python 3",
   "language": "python",
   "name": "python3"
  },
  "language_info": {
   "codemirror_mode": {
    "name": "ipython",
    "version": 3
   },
   "file_extension": ".py",
   "mimetype": "text/x-python",
   "name": "python",
   "nbconvert_exporter": "python",
   "pygments_lexer": "ipython3",
   "version": "3.6.13"
  }
 },
 "nbformat": 4,
 "nbformat_minor": 5
}
