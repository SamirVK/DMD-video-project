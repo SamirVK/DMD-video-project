{
 "cells": [
  {
   "cell_type": "code",
   "execution_count": 1,
   "id": "cdbbc592",
   "metadata": {},
   "outputs": [],
   "source": [
    "import os\n",
    "os.chdir('/Users/samir/Documents/Winter2023/MAST680/Assignment1')"
   ]
  },
  {
   "cell_type": "markdown",
   "id": "6125b4ef",
   "metadata": {},
   "source": [
    "## import raw video as a 4-dimensional matrix"
   ]
  },
  {
   "cell_type": "code",
   "execution_count": 3,
   "id": "35517c06-b5e6-4cb8-a9ff-6d4ac9b11606",
   "metadata": {},
   "outputs": [
    {
     "data": {
      "text/plain": [
       "-1"
      ]
     },
     "execution_count": 3,
     "metadata": {},
     "output_type": "execute_result"
    }
   ],
   "source": [
    "import cv2\n",
    "import numpy as np\n",
    "\n",
    "cap = cv2.VideoCapture('monte_carlo_low.mp4')\n",
    "frameCount = int(cap.get(cv2.CAP_PROP_FRAME_COUNT))\n",
    "frameWidth = int(cap.get(cv2.CAP_PROP_FRAME_WIDTH))\n",
    "frameHeight = int(cap.get(cv2.CAP_PROP_FRAME_HEIGHT))\n",
    "\n",
    "buf = np.empty((frameCount, frameHeight, frameWidth, 3), np.dtype('uint8'))\n",
    "\n",
    "fc = 0\n",
    "ret = True\n",
    "\n",
    "while (fc < frameCount  and ret):\n",
    "    ret, buf[fc] = cap.read()\n",
    "    fc += 1\n",
    "\n",
    "cap.release()\n",
    "\n",
    "cv2.namedWindow('frame 10')\n",
    "cv2.imshow('frame 10', buf[9])\n",
    "\n",
    "cv2.waitKey(5000)"
   ]
  },
  {
   "cell_type": "markdown",
   "id": "3bbb2618",
   "metadata": {},
   "source": [
    "# Dimensions: (frames, frame hei"
   ]
  },
  {
   "cell_type": "code",
   "execution_count": 7,
   "id": "e1263777-ea14-41fe-89a8-b8d846b577ee",
   "metadata": {},
   "outputs": [
    {
     "data": {
      "text/plain": [
       "(379, 540, 960, 3)"
      ]
     },
     "execution_count": 7,
     "metadata": {},
     "output_type": "execute_result"
    }
   ],
   "source": [
    "np.shape(buf)"
   ]
  },
  {
   "cell_type": "code",
   "execution_count": null,
   "id": "5ac0e055",
   "metadata": {},
   "outputs": [],
   "source": []
  }
 ],
 "metadata": {
  "kernelspec": {
   "display_name": "Python 3",
   "language": "python",
   "name": "python3"
  },
  "language_info": {
   "codemirror_mode": {
    "name": "ipython",
    "version": 3
   },
   "file_extension": ".py",
   "mimetype": "text/x-python",
   "name": "python",
   "nbconvert_exporter": "python",
   "pygments_lexer": "ipython3",
   "version": "3.6.13"
  }
 },
 "nbformat": 4,
 "nbformat_minor": 5
}
